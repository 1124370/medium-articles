{
  "nbformat": 4,
  "nbformat_minor": 0,
  "metadata": {
    "kernelspec": {
      "display_name": "Python 3",
      "language": "python",
      "name": "python3"
    },
    "language_info": {
      "codemirror_mode": {
        "name": "ipython",
        "version": 3
      },
      "file_extension": ".py",
      "mimetype": "text/x-python",
      "name": "python",
      "nbconvert_exporter": "python",
      "pygments_lexer": "ipython3",
      "version": "3.7.4"
    },
    "toc": {
      "base_numbering": 1,
      "nav_menu": {},
      "number_sections": true,
      "sideBar": true,
      "skip_h1_title": false,
      "title_cell": "Table of Contents",
      "title_sidebar": "Contents",
      "toc_cell": false,
      "toc_position": {},
      "toc_section_display": true,
      "toc_window_display": false
    },
    "varInspector": {
      "cols": {
        "lenName": 16,
        "lenType": 16,
        "lenVar": 40
      },
      "kernels_config": {
        "python": {
          "delete_cmd_postfix": "",
          "delete_cmd_prefix": "del ",
          "library": "var_list.py",
          "varRefreshCmd": "print(var_dic_list())"
        },
        "r": {
          "delete_cmd_postfix": ") ",
          "delete_cmd_prefix": "rm(",
          "library": "var_list.r",
          "varRefreshCmd": "cat(var_dic_list()) "
        }
      },
      "types_to_exclude": [
        "module",
        "function",
        "builtin_function_or_method",
        "instance",
        "_Feature"
      ],
      "window_display": false
    },
    "colab": {
      "name": "matplotlib_intro.ipynb",
      "provenance": [],
      "collapsed_sections": []
    }
  },
  "cells": [
    {
      "cell_type": "markdown",
      "metadata": {
        "id": "6LRWW5uY76S5",
        "colab_type": "text"
      },
      "source": [
        "# Introduction to Data Visualization with the Matplotlib library"
      ]
    },
    {
      "cell_type": "markdown",
      "metadata": {
        "id": "_yCUHbvS76S9",
        "colab_type": "text"
      },
      "source": [
        "This Notebook is a companion to my \"Introduction to Data Visualization with the Matplotlib library\" article which you can read [here]() if you're interested. \n",
        "\n",
        "This notebook contains all the code samples used in the article so that you can run each one individually and see the resulting plot straight away. Don't forget to run the imports cell before the plots."
      ]
    },
    {
      "cell_type": "markdown",
      "metadata": {
        "id": "prQmRHCp76S_",
        "colab_type": "text"
      },
      "source": [
        "## Imports"
      ]
    },
    {
      "cell_type": "code",
      "metadata": {
        "ExecuteTime": {
          "end_time": "2020-01-15T20:35:09.609553Z",
          "start_time": "2020-01-15T20:35:08.623812Z"
        },
        "id": "3RUAmHNr76TB",
        "colab_type": "code",
        "colab": {}
      },
      "source": [
        "from matplotlib import pyplot as plt\n",
        "import numpy as np"
      ],
      "execution_count": 0,
      "outputs": []
    },
    {
      "cell_type": "markdown",
      "metadata": {
        "id": "3AlpYGAS76TH",
        "colab_type": "text"
      },
      "source": [
        "## Line plots"
      ]
    },
    {
      "cell_type": "code",
      "metadata": {
        "ExecuteTime": {
          "end_time": "2020-01-15T20:35:09.936435Z",
          "start_time": "2020-01-15T20:35:09.615561Z"
        },
        "id": "eJRrmSvy76TJ",
        "colab_type": "code",
        "colab": {}
      },
      "source": [
        "nums = [1, 2, 3, 4, 5, 6, 7, 8, 9, 10]\n",
        "doubles = [2, 4, 6, 8, 10, 12, 14, 16, 18, 20]\n",
        "squares = [1, 4, 9, 16, 25, 36, 49, 64, 81, 100]\n",
        "\n",
        "# Plot the base numbers against their doubles and against their squares\n",
        "plt.plot(nums, doubles, label=\"Doubles\", color=\"red\")\n",
        "plt.plot(nums, squares, label=\"Squares\", color=\"blue\")\n",
        "\n",
        "# Give a label to each axis\n",
        "plt.xlabel(\"Number\")\n",
        "plt.ylabel(\"Result\")\n",
        "# Give a title to the graph\n",
        "plt.title(\"Evolution of doubles and squares for the range [1,10]\")\n",
        "# By default the legend is drawn in the top left corner\n",
        "plt.legend()\n",
        "plt.tight_layout()\n",
        "plt.show()"
      ],
      "execution_count": 0,
      "outputs": []
    },
    {
      "cell_type": "markdown",
      "metadata": {
        "id": "mDwvcZhg76TP",
        "colab_type": "text"
      },
      "source": [
        "## Scatter plot"
      ]
    },
    {
      "cell_type": "code",
      "metadata": {
        "ExecuteTime": {
          "end_time": "2020-01-15T20:35:10.148556Z",
          "start_time": "2020-01-15T20:35:09.941451Z"
        },
        "id": "tLtoDr-l76TQ",
        "colab_type": "code",
        "colab": {}
      },
      "source": [
        "x_coords = [1, 2, 3, 4, 5, 6, 7, 8, 9, 10, 11, 12, 13, 14, 15, 16, 17, 18, 19, 20]\n",
        "fav_nums = [9, 37, 45, 32, 46, 56, 28, 9, 16, 68, 64, 100, 25, 1, 59, 50, 31, 96, 13, 76]\n",
        "\n",
        "# Plot the favorite numbers of twenty individuals\n",
        "plt.scatter(x_coords, fav_nums, marker=\"x\", color=\"red\")\n",
        "\n",
        "plt.ylabel(\"Favorite number\")\n",
        "# Hide the ticks of the X axis\n",
        "plt.xticks([])\n",
        "plt.title(\"Favorite number of twenty individuals\")\n",
        "plt.tight_layout()\n",
        "plt.show()"
      ],
      "execution_count": 0,
      "outputs": []
    },
    {
      "cell_type": "markdown",
      "metadata": {
        "id": "FAL39MuQ76TW",
        "colab_type": "text"
      },
      "source": [
        "## Pie chart"
      ]
    },
    {
      "cell_type": "code",
      "metadata": {
        "ExecuteTime": {
          "end_time": "2020-01-15T20:35:10.315541Z",
          "start_time": "2020-01-15T20:35:10.152548Z"
        },
        "id": "fOU9H-nk76TY",
        "colab_type": "code",
        "colab": {}
      },
      "source": [
        "# Slice values, labels and colors\n",
        "slices = [1, 9, 6, 7, 8]\n",
        "labels = [\"Dwight\", \"Pam\", \"Robert\", \"Michael\", \"Jim\"]\n",
        "colors = [\"#ff9999\", \"#66b3ff\", \"#99ff99\", \"#ffcc99\", \"#cccccc\"]\n",
        "\n",
        "# Plot the number of movies watched in 2019 by five people, in a pie chart\n",
        "# Show the percentages of each slice, with two decimal places\n",
        "plt.pie(slices, labels=labels, colors=colors, autopct=\"%1.2f%%\")\n",
        "\n",
        "plt.title(\"Number of movies watched at the cinema in 2019\")\n",
        "plt.tight_layout()\n",
        "plt.show()"
      ],
      "execution_count": 0,
      "outputs": []
    },
    {
      "cell_type": "markdown",
      "metadata": {
        "id": "6JmZesWh76Td",
        "colab_type": "text"
      },
      "source": [
        "## Bar chart"
      ]
    },
    {
      "cell_type": "code",
      "metadata": {
        "ExecuteTime": {
          "end_time": "2020-01-15T20:35:10.600284Z",
          "start_time": "2020-01-15T20:35:10.318549Z"
        },
        "id": "qoWIWHzN76Tf",
        "colab_type": "code",
        "colab": {}
      },
      "source": [
        "pairs_owned = [16, 9, 9, 6]\n",
        "options = [\"One\", \"Two\", \"Three\", \"Four+\"]\n",
        "\n",
        "# Plot the years of experience working with Python of 40 individuals in a bar chart\n",
        "plt.bar(options, pairs_owned)\n",
        "\n",
        "plt.title(\"Years of experience working with Python (n=40)\")\n",
        "plt.ylabel(\"Number of respondents\")\n",
        "plt.tight_layout()\n",
        "\n",
        "plt.show()"
      ],
      "execution_count": 0,
      "outputs": []
    },
    {
      "cell_type": "markdown",
      "metadata": {
        "id": "GQsb56FT76Tl",
        "colab_type": "text"
      },
      "source": [
        "## Horizontal bar chart"
      ]
    },
    {
      "cell_type": "code",
      "metadata": {
        "ExecuteTime": {
          "end_time": "2020-01-15T20:35:10.871091Z",
          "start_time": "2020-01-15T20:35:10.604291Z"
        },
        "id": "U6Gljvo276Tm",
        "colab_type": "code",
        "colab": {}
      },
      "source": [
        "pairs_owned = [16, 9, 9, 6]\n",
        "options = [\"One\", \"Two\", \"Three\", \"Four+\"]\n",
        "\n",
        "# Plot the years of experience working with Python of 40 individuals in a bar chart\n",
        "plt.barh(options, pairs_owned)\n",
        "\n",
        "plt.title(\"Years of experience working with Python (n=40)\")\n",
        "plt.xlabel(\"Number of respondents\")\n",
        "plt.tight_layout()\n",
        "plt.show()"
      ],
      "execution_count": 0,
      "outputs": []
    },
    {
      "cell_type": "markdown",
      "metadata": {
        "id": "7rf958xu76Tt",
        "colab_type": "text"
      },
      "source": [
        "## Histogram"
      ]
    },
    {
      "cell_type": "code",
      "metadata": {
        "ExecuteTime": {
          "end_time": "2020-01-15T20:35:11.209333Z",
          "start_time": "2020-01-15T20:35:10.873096Z"
        },
        "id": "5z03IGJn76Tu",
        "colab_type": "code",
        "colab": {}
      },
      "source": [
        "ages = [83, 50, 88, 31, 37, 52, 81, 58, 23, 60, 51, 62, 36, 95, 64, 59, 91, 70, 35,\n",
        "        94, 61, 65, 96, 21, 95, 78, 99, 33, 29, 35, 29, 98, 54, 48, 97, 41, 29, 82,\n",
        "        67, 55, 37, 99, 20, 69, 70, 98, 88, 41, 30, 58, 96, 33, 25, 52, 40, 69, 40,\n",
        "        32, 50, 51, 64, 57, 75, 87, 37, 37, 82, 68, 65, 96, 45, 27, 52, 86, 51, 45,\n",
        "        52, 67, 72, 98, 84, 76, 43, 26, 44, 41, 58, 19, 84, 21, 87, 46, 84, 76, 61,\n",
        "        74, 32, 58, 66, 29]\n",
        "# Bin edges (class intervals)\n",
        "bins = [10, 20, 30, 40, 50, 60, 70, 80, 90, 100]\n",
        "\n",
        "# Plot the ages of 100 people, using the specified class intervals\n",
        "plt.hist(ages, bins=bins, color=\"red\", edgecolor=\"black\")\n",
        "\n",
        "plt.title(\"Distribution of ages in a group of 100 people\")\n",
        "plt.xlabel(\"Ages\")\n",
        "plt.ylabel(\"Frequency\")\n",
        "plt.tight_layout()\n",
        "plt.show()"
      ],
      "execution_count": 0,
      "outputs": []
    },
    {
      "cell_type": "markdown",
      "metadata": {
        "id": "2e851EPm76Tz",
        "colab_type": "text"
      },
      "source": [
        "## Fill between"
      ]
    },
    {
      "cell_type": "code",
      "metadata": {
        "ExecuteTime": {
          "end_time": "2020-01-15T20:35:11.595765Z",
          "start_time": "2020-01-15T20:35:11.215355Z"
        },
        "id": "eajqNABv76T1",
        "colab_type": "code",
        "colab": {}
      },
      "source": [
        "days = [1, 2, 3, 4, 5, 6, 7, 8, 9, 10]\n",
        "# Need to save the data for the Y axis as NumPy arrays because the\\\n",
        "# `fill_between()` method needs to receive arrays instead of lists\n",
        "company_sales = np.array([2, 6, 9, 12, 8, 15, 20, 32, 27, 30])\n",
        "competition_sales = np.array([1, 2, 4, 5, 13, 12, 18, 22, 34, 38])\n",
        "\n",
        "plt.plot(days, company_sales, color=\"blue\", label=\"Company A\")\n",
        "# Plot the competition with a dashed black line\n",
        "plt.plot(days, competition_sales, linestyle=\"--\", color=\"black\", label=\"Competition\")\n",
        "\n",
        "# Given the plot of the sales of the company and its competition, fill the\\\n",
        "# area between both plots where the company sold more than its competition\n",
        "plt.fill_between(\n",
        "    days, company_sales, competition_sales,\n",
        "    where=(company_sales > competition_sales),\n",
        "    interpolate=True,\n",
        "    color=\"green\",\n",
        "    alpha=0.25,\n",
        "    label=\"Company A sold more\"\n",
        ")\n",
        "\n",
        "# Given the plot of the sales of the company and its competition, fill the\\\n",
        "# area between both plots where the competition sold more as much as the\\\n",
        "# company\n",
        "plt.fill_between(\n",
        "    days, competition_sales, company_sales,\n",
        "    where=(company_sales <= competition_sales),\n",
        "    interpolate=True,\n",
        "    color=\"red\",\n",
        "    alpha=0.25,\n",
        "    label=\"Competition sold more\"\n",
        ")\n",
        "\n",
        "plt.title(\"Company A vs Competition sales\")\n",
        "plt.xlabel(\"Day\")\n",
        "plt.ylabel(\"Number of sales (thousands)\")\n",
        "plt.legend()\n",
        "plt.show()"
      ],
      "execution_count": 0,
      "outputs": []
    }
  ]
}